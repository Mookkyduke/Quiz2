{
  "nbformat": 4,
  "nbformat_minor": 0,
  "metadata": {
    "colab": {
      "provenance": [],
      "authorship_tag": "ABX9TyOdX51ufNu+WqxyktVTJGTB",
      "include_colab_link": true
    },
    "kernelspec": {
      "name": "python3",
      "display_name": "Python 3"
    },
    "language_info": {
      "name": "python"
    }
  },
  "cells": [
    {
      "cell_type": "markdown",
      "metadata": {
        "id": "view-in-github",
        "colab_type": "text"
      },
      "source": [
        "<a href=\"https://colab.research.google.com/github/Mookkyduke/Quiz2/blob/main/633020668_9_Quiz2.ipynb\" target=\"_parent\"><img src=\"https://colab.research.google.com/assets/colab-badge.svg\" alt=\"Open In Colab\"/></a>"
      ]
    },
    {
      "cell_type": "code",
      "execution_count": 26,
      "metadata": {
        "id": "qsbHeszwZGYI"
      },
      "outputs": [],
      "source": [
        "import pandas as pd # ทำงานกับข้อมูลลักษณะ ตาราง\n",
        "import numpy as np\n",
        "import matplotlib.pyplot as plt\n",
        "import seaborn as sns"
      ]
    },
    {
      "cell_type": "code",
      "source": [
        "from google.colab import drive # เชื่อม google drive\n",
        "drive.mount('/content/drive')"
      ],
      "metadata": {
        "colab": {
          "base_uri": "https://localhost:8080/"
        },
        "id": "_syrxgsDZrJ_",
        "outputId": "929496c6-e34e-4e09-8caa-34365f1234a6"
      },
      "execution_count": 3,
      "outputs": [
        {
          "output_type": "stream",
          "name": "stdout",
          "text": [
            "Mounted at /content/drive\n"
          ]
        }
      ]
    },
    {
      "cell_type": "code",
      "source": [
        "df = pd.read_csv('/content/drive/MyDrive/Data Mining//covid_19_clean_complete.csv')\n",
        "df.head()"
      ],
      "metadata": {
        "colab": {
          "base_uri": "https://localhost:8080/",
          "height": 206
        },
        "id": "SJ0NsfOxZuOd",
        "outputId": "5b823a6b-e975-4a72-b2e2-203ba7f158e9"
      },
      "execution_count": 4,
      "outputs": [
        {
          "output_type": "execute_result",
          "data": {
            "text/plain": [
              "  Province/State Country/Region       Lat       Long        Date  Confirmed  \\\n",
              "0            NaN    Afghanistan  33.93911  67.709953  2020-01-22          0   \n",
              "1            NaN        Albania  41.15330  20.168300  2020-01-22          0   \n",
              "2            NaN        Algeria  28.03390   1.659600  2020-01-22          0   \n",
              "3            NaN        Andorra  42.50630   1.521800  2020-01-22          0   \n",
              "4            NaN         Angola -11.20270  17.873900  2020-01-22          0   \n",
              "\n",
              "   Deaths  Recovered  Active             WHO Region  \n",
              "0       0          0       0  Eastern Mediterranean  \n",
              "1       0          0       0                 Europe  \n",
              "2       0          0       0                 Africa  \n",
              "3       0          0       0                 Europe  \n",
              "4       0          0       0                 Africa  "
            ],
            "text/html": [
              "\n",
              "\n",
              "  <div id=\"df-ecd7d2b4-03d9-421b-9d3f-ef6b4281c1ff\">\n",
              "    <div class=\"colab-df-container\">\n",
              "      <div>\n",
              "<style scoped>\n",
              "    .dataframe tbody tr th:only-of-type {\n",
              "        vertical-align: middle;\n",
              "    }\n",
              "\n",
              "    .dataframe tbody tr th {\n",
              "        vertical-align: top;\n",
              "    }\n",
              "\n",
              "    .dataframe thead th {\n",
              "        text-align: right;\n",
              "    }\n",
              "</style>\n",
              "<table border=\"1\" class=\"dataframe\">\n",
              "  <thead>\n",
              "    <tr style=\"text-align: right;\">\n",
              "      <th></th>\n",
              "      <th>Province/State</th>\n",
              "      <th>Country/Region</th>\n",
              "      <th>Lat</th>\n",
              "      <th>Long</th>\n",
              "      <th>Date</th>\n",
              "      <th>Confirmed</th>\n",
              "      <th>Deaths</th>\n",
              "      <th>Recovered</th>\n",
              "      <th>Active</th>\n",
              "      <th>WHO Region</th>\n",
              "    </tr>\n",
              "  </thead>\n",
              "  <tbody>\n",
              "    <tr>\n",
              "      <th>0</th>\n",
              "      <td>NaN</td>\n",
              "      <td>Afghanistan</td>\n",
              "      <td>33.93911</td>\n",
              "      <td>67.709953</td>\n",
              "      <td>2020-01-22</td>\n",
              "      <td>0</td>\n",
              "      <td>0</td>\n",
              "      <td>0</td>\n",
              "      <td>0</td>\n",
              "      <td>Eastern Mediterranean</td>\n",
              "    </tr>\n",
              "    <tr>\n",
              "      <th>1</th>\n",
              "      <td>NaN</td>\n",
              "      <td>Albania</td>\n",
              "      <td>41.15330</td>\n",
              "      <td>20.168300</td>\n",
              "      <td>2020-01-22</td>\n",
              "      <td>0</td>\n",
              "      <td>0</td>\n",
              "      <td>0</td>\n",
              "      <td>0</td>\n",
              "      <td>Europe</td>\n",
              "    </tr>\n",
              "    <tr>\n",
              "      <th>2</th>\n",
              "      <td>NaN</td>\n",
              "      <td>Algeria</td>\n",
              "      <td>28.03390</td>\n",
              "      <td>1.659600</td>\n",
              "      <td>2020-01-22</td>\n",
              "      <td>0</td>\n",
              "      <td>0</td>\n",
              "      <td>0</td>\n",
              "      <td>0</td>\n",
              "      <td>Africa</td>\n",
              "    </tr>\n",
              "    <tr>\n",
              "      <th>3</th>\n",
              "      <td>NaN</td>\n",
              "      <td>Andorra</td>\n",
              "      <td>42.50630</td>\n",
              "      <td>1.521800</td>\n",
              "      <td>2020-01-22</td>\n",
              "      <td>0</td>\n",
              "      <td>0</td>\n",
              "      <td>0</td>\n",
              "      <td>0</td>\n",
              "      <td>Europe</td>\n",
              "    </tr>\n",
              "    <tr>\n",
              "      <th>4</th>\n",
              "      <td>NaN</td>\n",
              "      <td>Angola</td>\n",
              "      <td>-11.20270</td>\n",
              "      <td>17.873900</td>\n",
              "      <td>2020-01-22</td>\n",
              "      <td>0</td>\n",
              "      <td>0</td>\n",
              "      <td>0</td>\n",
              "      <td>0</td>\n",
              "      <td>Africa</td>\n",
              "    </tr>\n",
              "  </tbody>\n",
              "</table>\n",
              "</div>\n",
              "      <button class=\"colab-df-convert\" onclick=\"convertToInteractive('df-ecd7d2b4-03d9-421b-9d3f-ef6b4281c1ff')\"\n",
              "              title=\"Convert this dataframe to an interactive table.\"\n",
              "              style=\"display:none;\">\n",
              "\n",
              "  <svg xmlns=\"http://www.w3.org/2000/svg\" height=\"24px\"viewBox=\"0 0 24 24\"\n",
              "       width=\"24px\">\n",
              "    <path d=\"M0 0h24v24H0V0z\" fill=\"none\"/>\n",
              "    <path d=\"M18.56 5.44l.94 2.06.94-2.06 2.06-.94-2.06-.94-.94-2.06-.94 2.06-2.06.94zm-11 1L8.5 8.5l.94-2.06 2.06-.94-2.06-.94L8.5 2.5l-.94 2.06-2.06.94zm10 10l.94 2.06.94-2.06 2.06-.94-2.06-.94-.94-2.06-.94 2.06-2.06.94z\"/><path d=\"M17.41 7.96l-1.37-1.37c-.4-.4-.92-.59-1.43-.59-.52 0-1.04.2-1.43.59L10.3 9.45l-7.72 7.72c-.78.78-.78 2.05 0 2.83L4 21.41c.39.39.9.59 1.41.59.51 0 1.02-.2 1.41-.59l7.78-7.78 2.81-2.81c.8-.78.8-2.07 0-2.86zM5.41 20L4 18.59l7.72-7.72 1.47 1.35L5.41 20z\"/>\n",
              "  </svg>\n",
              "      </button>\n",
              "\n",
              "\n",
              "\n",
              "    <div id=\"df-bdd59b06-6eff-4451-82fb-964318d9e145\">\n",
              "      <button class=\"colab-df-quickchart\" onclick=\"quickchart('df-bdd59b06-6eff-4451-82fb-964318d9e145')\"\n",
              "              title=\"Suggest charts.\"\n",
              "              style=\"display:none;\">\n",
              "\n",
              "<svg xmlns=\"http://www.w3.org/2000/svg\" height=\"24px\"viewBox=\"0 0 24 24\"\n",
              "     width=\"24px\">\n",
              "    <g>\n",
              "        <path d=\"M19 3H5c-1.1 0-2 .9-2 2v14c0 1.1.9 2 2 2h14c1.1 0 2-.9 2-2V5c0-1.1-.9-2-2-2zM9 17H7v-7h2v7zm4 0h-2V7h2v10zm4 0h-2v-4h2v4z\"/>\n",
              "    </g>\n",
              "</svg>\n",
              "      </button>\n",
              "    </div>\n",
              "\n",
              "<style>\n",
              "  .colab-df-quickchart {\n",
              "    background-color: #E8F0FE;\n",
              "    border: none;\n",
              "    border-radius: 50%;\n",
              "    cursor: pointer;\n",
              "    display: none;\n",
              "    fill: #1967D2;\n",
              "    height: 32px;\n",
              "    padding: 0 0 0 0;\n",
              "    width: 32px;\n",
              "  }\n",
              "\n",
              "  .colab-df-quickchart:hover {\n",
              "    background-color: #E2EBFA;\n",
              "    box-shadow: 0px 1px 2px rgba(60, 64, 67, 0.3), 0px 1px 3px 1px rgba(60, 64, 67, 0.15);\n",
              "    fill: #174EA6;\n",
              "  }\n",
              "\n",
              "  [theme=dark] .colab-df-quickchart {\n",
              "    background-color: #3B4455;\n",
              "    fill: #D2E3FC;\n",
              "  }\n",
              "\n",
              "  [theme=dark] .colab-df-quickchart:hover {\n",
              "    background-color: #434B5C;\n",
              "    box-shadow: 0px 1px 3px 1px rgba(0, 0, 0, 0.15);\n",
              "    filter: drop-shadow(0px 1px 2px rgba(0, 0, 0, 0.3));\n",
              "    fill: #FFFFFF;\n",
              "  }\n",
              "</style>\n",
              "\n",
              "    <script>\n",
              "      async function quickchart(key) {\n",
              "        const containerElement = document.querySelector('#' + key);\n",
              "        const charts = await google.colab.kernel.invokeFunction(\n",
              "            'suggestCharts', [key], {});\n",
              "      }\n",
              "    </script>\n",
              "\n",
              "      <script>\n",
              "\n",
              "function displayQuickchartButton(domScope) {\n",
              "  let quickchartButtonEl =\n",
              "    domScope.querySelector('#df-bdd59b06-6eff-4451-82fb-964318d9e145 button.colab-df-quickchart');\n",
              "  quickchartButtonEl.style.display =\n",
              "    google.colab.kernel.accessAllowed ? 'block' : 'none';\n",
              "}\n",
              "\n",
              "        displayQuickchartButton(document);\n",
              "      </script>\n",
              "      <style>\n",
              "    .colab-df-container {\n",
              "      display:flex;\n",
              "      flex-wrap:wrap;\n",
              "      gap: 12px;\n",
              "    }\n",
              "\n",
              "    .colab-df-convert {\n",
              "      background-color: #E8F0FE;\n",
              "      border: none;\n",
              "      border-radius: 50%;\n",
              "      cursor: pointer;\n",
              "      display: none;\n",
              "      fill: #1967D2;\n",
              "      height: 32px;\n",
              "      padding: 0 0 0 0;\n",
              "      width: 32px;\n",
              "    }\n",
              "\n",
              "    .colab-df-convert:hover {\n",
              "      background-color: #E2EBFA;\n",
              "      box-shadow: 0px 1px 2px rgba(60, 64, 67, 0.3), 0px 1px 3px 1px rgba(60, 64, 67, 0.15);\n",
              "      fill: #174EA6;\n",
              "    }\n",
              "\n",
              "    [theme=dark] .colab-df-convert {\n",
              "      background-color: #3B4455;\n",
              "      fill: #D2E3FC;\n",
              "    }\n",
              "\n",
              "    [theme=dark] .colab-df-convert:hover {\n",
              "      background-color: #434B5C;\n",
              "      box-shadow: 0px 1px 3px 1px rgba(0, 0, 0, 0.15);\n",
              "      filter: drop-shadow(0px 1px 2px rgba(0, 0, 0, 0.3));\n",
              "      fill: #FFFFFF;\n",
              "    }\n",
              "  </style>\n",
              "\n",
              "      <script>\n",
              "        const buttonEl =\n",
              "          document.querySelector('#df-ecd7d2b4-03d9-421b-9d3f-ef6b4281c1ff button.colab-df-convert');\n",
              "        buttonEl.style.display =\n",
              "          google.colab.kernel.accessAllowed ? 'block' : 'none';\n",
              "\n",
              "        async function convertToInteractive(key) {\n",
              "          const element = document.querySelector('#df-ecd7d2b4-03d9-421b-9d3f-ef6b4281c1ff');\n",
              "          const dataTable =\n",
              "            await google.colab.kernel.invokeFunction('convertToInteractive',\n",
              "                                                     [key], {});\n",
              "          if (!dataTable) return;\n",
              "\n",
              "          const docLinkHtml = 'Like what you see? Visit the ' +\n",
              "            '<a target=\"_blank\" href=https://colab.research.google.com/notebooks/data_table.ipynb>data table notebook</a>'\n",
              "            + ' to learn more about interactive tables.';\n",
              "          element.innerHTML = '';\n",
              "          dataTable['output_type'] = 'display_data';\n",
              "          await google.colab.output.renderOutput(dataTable, element);\n",
              "          const docLink = document.createElement('div');\n",
              "          docLink.innerHTML = docLinkHtml;\n",
              "          element.appendChild(docLink);\n",
              "        }\n",
              "      </script>\n",
              "    </div>\n",
              "  </div>\n"
            ]
          },
          "metadata": {},
          "execution_count": 4
        }
      ]
    },
    {
      "cell_type": "code",
      "source": [
        "df.info"
      ],
      "metadata": {
        "colab": {
          "base_uri": "https://localhost:8080/"
        },
        "id": "MSw1okHAajgR",
        "outputId": "53444fec-69c7-4c8c-83a0-471bd4077641"
      },
      "execution_count": 5,
      "outputs": [
        {
          "output_type": "execute_result",
          "data": {
            "text/plain": [
              "<bound method DataFrame.info of       Province/State         Country/Region        Lat       Long        Date  \\\n",
              "0                NaN            Afghanistan  33.939110  67.709953  2020-01-22   \n",
              "1                NaN                Albania  41.153300  20.168300  2020-01-22   \n",
              "2                NaN                Algeria  28.033900   1.659600  2020-01-22   \n",
              "3                NaN                Andorra  42.506300   1.521800  2020-01-22   \n",
              "4                NaN                 Angola -11.202700  17.873900  2020-01-22   \n",
              "...              ...                    ...        ...        ...         ...   \n",
              "49063            NaN  Sao Tome and Principe   0.186400   6.613100  2020-07-27   \n",
              "49064            NaN                  Yemen  15.552727  48.516388  2020-07-27   \n",
              "49065            NaN                Comoros -11.645500  43.333300  2020-07-27   \n",
              "49066            NaN             Tajikistan  38.861000  71.276100  2020-07-27   \n",
              "49067            NaN                Lesotho -29.610000  28.233600  2020-07-27   \n",
              "\n",
              "       Confirmed  Deaths  Recovered  Active             WHO Region  \n",
              "0              0       0          0       0  Eastern Mediterranean  \n",
              "1              0       0          0       0                 Europe  \n",
              "2              0       0          0       0                 Africa  \n",
              "3              0       0          0       0                 Europe  \n",
              "4              0       0          0       0                 Africa  \n",
              "...          ...     ...        ...     ...                    ...  \n",
              "49063        865      14        734     117                 Africa  \n",
              "49064       1691     483        833     375  Eastern Mediterranean  \n",
              "49065        354       7        328      19                 Africa  \n",
              "49066       7235      60       6028    1147                 Europe  \n",
              "49067        505      12        128     365                 Africa  \n",
              "\n",
              "[49068 rows x 10 columns]>"
            ]
          },
          "metadata": {},
          "execution_count": 5
        }
      ]
    },
    {
      "cell_type": "markdown",
      "source": [
        "\n",
        "\n",
        "\n",
        "---\n",
        "\n",
        "\n",
        "### Question\n",
        "*   ข้อมูลมีขนาดเท่าไหร่ มีกี่ตัวแปร อะไรบ้าง?\n",
        "*   ข้อมูลมีการเก็บสถิติการติดโควิดเมื่อใด? (วันเริ่มต้น - วันสุดท้าย)\n",
        "- สำรวจค่าว่างในข้อมูล ตัวแปรไหนมีค่าสูญหายบ้าง จำนวนเท่าไหร่\n",
        "- ทวีปไหนมีจำนวนเคส (Confirmed) มากที่สุด\n",
        "- ทวีปไหนมีจำนวนผู้หายติด (Recovered) มากที่สุด\n",
        "- ทวีปไหนมีมีจำนวนผู้เสียชีวิต (Deaths) มากที่สุด\n",
        "- สร้าง Visualization ของค่าสถิติทั้งสามด้านบน เรียงจากจำนวนมากไปน้อย\n",
        "- ประเทศไหนมีจำนวนเคส (Confirmed) มากที่สุด\n",
        "- ประเทศไหนมีจำนวนผู้เสียชีวิต (Deaths) มากที่สุด\n",
        "- ประเทศไหนมีจำนวนผู้หายติด (Recovered) มากที่สุด\n",
        "- สร้าง Visualization ของค่าสถิติทั้งสามด้านบน เรียงจากจำนวนมากไปน้อย\n",
        "- สรุปข้อมูลโควิดประจำวันของประเทศไทย\n",
        "- สรุปข้อมูลโควิดประจำวันของประเทศไทย ในช่วงก่อนเทศกาลสงกรานต์หนึ่งสัปดาห์ ระหว่างเทศกาลสงกรานต์ (13-18 เม.ย.) และหลังเทศกาลสงกรานต์หนึ่งสัปดาห์\n",
        "\n",
        "\n",
        "---\n",
        "\n"
      ],
      "metadata": {
        "id": "opWoCMPlaGmZ"
      }
    },
    {
      "cell_type": "markdown",
      "source": [
        "ข้อมูลมีขนาดเท่าไหร่ มีกี่ตัวแปร อะไรบ้าง?"
      ],
      "metadata": {
        "id": "Mzl4nBm3cPMd"
      }
    },
    {
      "cell_type": "code",
      "source": [
        "# หาขนาดข้อมูล\n",
        "df.shape"
      ],
      "metadata": {
        "colab": {
          "base_uri": "https://localhost:8080/"
        },
        "id": "2NMp61dca8gQ",
        "outputId": "07e33cea-797e-4b4e-929b-d8bc876898b4"
      },
      "execution_count": 6,
      "outputs": [
        {
          "output_type": "execute_result",
          "data": {
            "text/plain": [
              "(49068, 10)"
            ]
          },
          "metadata": {},
          "execution_count": 6
        }
      ]
    },
    {
      "cell_type": "code",
      "source": [
        "# หาตัวแปร\n",
        "df.columns"
      ],
      "metadata": {
        "colab": {
          "base_uri": "https://localhost:8080/"
        },
        "id": "MIp90sQYbWzv",
        "outputId": "f2538b4d-65b2-423f-e553-62d51bfd2480"
      },
      "execution_count": 7,
      "outputs": [
        {
          "output_type": "execute_result",
          "data": {
            "text/plain": [
              "Index(['Province/State', 'Country/Region', 'Lat', 'Long', 'Date', 'Confirmed',\n",
              "       'Deaths', 'Recovered', 'Active', 'WHO Region'],\n",
              "      dtype='object')"
            ]
          },
          "metadata": {},
          "execution_count": 7
        }
      ]
    },
    {
      "cell_type": "markdown",
      "source": [
        "ข้อมูลมีการเก็บสถิติการติดโควิดเมื่อใด? (วันเริ่มต้น - วันสุดท้าย)"
      ],
      "metadata": {
        "id": "P6KsR7w7cS0r"
      }
    },
    {
      "cell_type": "code",
      "source": [
        "df['Date'] = pd.to_datetime(df['Date'])"
      ],
      "metadata": {
        "id": "CmYsV1judctd"
      },
      "execution_count": 8,
      "outputs": []
    },
    {
      "cell_type": "code",
      "source": [
        "df['Date'].max()"
      ],
      "metadata": {
        "colab": {
          "base_uri": "https://localhost:8080/"
        },
        "id": "XUfqy5cOeC7E",
        "outputId": "18923234-61d0-490d-f825-90d070448007"
      },
      "execution_count": 9,
      "outputs": [
        {
          "output_type": "execute_result",
          "data": {
            "text/plain": [
              "Timestamp('2020-07-27 00:00:00')"
            ]
          },
          "metadata": {},
          "execution_count": 9
        }
      ]
    },
    {
      "cell_type": "code",
      "source": [
        "df['Date'].min()"
      ],
      "metadata": {
        "colab": {
          "base_uri": "https://localhost:8080/"
        },
        "id": "gR8Ts_XZeSi1",
        "outputId": "0a355553-d664-48d1-fee0-ecd7de56cf10"
      },
      "execution_count": 10,
      "outputs": [
        {
          "output_type": "execute_result",
          "data": {
            "text/plain": [
              "Timestamp('2020-01-22 00:00:00')"
            ]
          },
          "metadata": {},
          "execution_count": 10
        }
      ]
    },
    {
      "cell_type": "markdown",
      "source": [
        "สำรวจค่าว่างในข้อมูล ตัวแปรไหนมีค่าสูญหายบ้าง จำนวนเท่าไหร่"
      ],
      "metadata": {
        "id": "y2Zj5rIIccPC"
      }
    },
    {
      "cell_type": "code",
      "source": [
        "df.isnull().any()"
      ],
      "metadata": {
        "colab": {
          "base_uri": "https://localhost:8080/"
        },
        "id": "WmN0GrVQcbgL",
        "outputId": "b431b29c-3db8-4dab-88c5-3dd21c555f33"
      },
      "execution_count": 11,
      "outputs": [
        {
          "output_type": "execute_result",
          "data": {
            "text/plain": [
              "Province/State     True\n",
              "Country/Region    False\n",
              "Lat               False\n",
              "Long              False\n",
              "Date              False\n",
              "Confirmed         False\n",
              "Deaths            False\n",
              "Recovered         False\n",
              "Active            False\n",
              "WHO Region        False\n",
              "dtype: bool"
            ]
          },
          "metadata": {},
          "execution_count": 11
        }
      ]
    },
    {
      "cell_type": "code",
      "source": [
        "df.isnull().sum()"
      ],
      "metadata": {
        "colab": {
          "base_uri": "https://localhost:8080/"
        },
        "id": "N856THLbewNn",
        "outputId": "089589a3-bc99-4351-d117-89c76d5b8612"
      },
      "execution_count": 12,
      "outputs": [
        {
          "output_type": "execute_result",
          "data": {
            "text/plain": [
              "Province/State    34404\n",
              "Country/Region        0\n",
              "Lat                   0\n",
              "Long                  0\n",
              "Date                  0\n",
              "Confirmed             0\n",
              "Deaths                0\n",
              "Recovered             0\n",
              "Active                0\n",
              "WHO Region            0\n",
              "dtype: int64"
            ]
          },
          "metadata": {},
          "execution_count": 12
        }
      ]
    },
    {
      "cell_type": "markdown",
      "source": [
        "ทวีปไหนมีจำนวนเคส (Confirmed) มากที่สุด"
      ],
      "metadata": {
        "id": "k64fU0IBcdRE"
      }
    },
    {
      "cell_type": "code",
      "source": [
        "df['Confirmed']\n",
        "# หาค่าผลรวมของจำนวนเคส (Confirmed) ของแต่ละทวีป\n",
        "sum_Confirmed = df.groupby('WHO Region')['Confirmed'].sum()\n",
        "sum_Confirmed"
      ],
      "metadata": {
        "colab": {
          "base_uri": "https://localhost:8080/"
        },
        "id": "OW7PATi3cfng",
        "outputId": "e3050b80-98a6-4029-ee28-9007f1ec878d"
      },
      "execution_count": 13,
      "outputs": [
        {
          "output_type": "execute_result",
          "data": {
            "text/plain": [
              "WHO Region\n",
              "Africa                    21791827\n",
              "Americas                 402261194\n",
              "Eastern Mediterranean     74082892\n",
              "Europe                   248879793\n",
              "South-East Asia           55118365\n",
              "Western Pacific           26374411\n",
              "Name: Confirmed, dtype: int64"
            ]
          },
          "metadata": {},
          "execution_count": 13
        }
      ]
    },
    {
      "cell_type": "code",
      "source": [
        "sum_Confirmed.idxmax()"
      ],
      "metadata": {
        "colab": {
          "base_uri": "https://localhost:8080/",
          "height": 35
        },
        "id": "5O-tJLuGfu9K",
        "outputId": "d28f1392-9ae5-4c43-9b84-bfbf43ac15ea"
      },
      "execution_count": 14,
      "outputs": [
        {
          "output_type": "execute_result",
          "data": {
            "text/plain": [
              "'Americas'"
            ],
            "application/vnd.google.colaboratory.intrinsic+json": {
              "type": "string"
            }
          },
          "metadata": {},
          "execution_count": 14
        }
      ]
    },
    {
      "cell_type": "markdown",
      "source": [
        "ทวีปไหนมีจำนวนผู้หายติด (Recovered) มากที่สุด"
      ],
      "metadata": {
        "id": "6haVk9xVcgKA"
      }
    },
    {
      "cell_type": "code",
      "source": [
        "df['Recovered']\n",
        "# หาค่าผลรวมของจำนวนผู้หายติด (Recovered) ของแต่ละทวีป\n",
        "sum_Recovered = df.groupby('WHO Region')['Recovered'].sum()\n",
        "sum_Recovered"
      ],
      "metadata": {
        "colab": {
          "base_uri": "https://localhost:8080/"
        },
        "id": "Tf4AiTB6cjZT",
        "outputId": "4461bf74-ab26-4909-db24-bfbf8e1d2fd2"
      },
      "execution_count": 15,
      "outputs": [
        {
          "output_type": "execute_result",
          "data": {
            "text/plain": [
              "WHO Region\n",
              "Africa                    11193730\n",
              "Americas                 157069444\n",
              "Eastern Mediterranean     48050703\n",
              "Europe                   123202075\n",
              "South-East Asia           30030327\n",
              "Western Pacific           18861950\n",
              "Name: Recovered, dtype: int64"
            ]
          },
          "metadata": {},
          "execution_count": 15
        }
      ]
    },
    {
      "cell_type": "code",
      "source": [
        "sum_Recovered.idxmax()"
      ],
      "metadata": {
        "colab": {
          "base_uri": "https://localhost:8080/",
          "height": 35
        },
        "id": "rSXZ3tM6gVQD",
        "outputId": "3be799d0-9649-476a-bd68-d976cd383332"
      },
      "execution_count": 16,
      "outputs": [
        {
          "output_type": "execute_result",
          "data": {
            "text/plain": [
              "'Americas'"
            ],
            "application/vnd.google.colaboratory.intrinsic+json": {
              "type": "string"
            }
          },
          "metadata": {},
          "execution_count": 16
        }
      ]
    },
    {
      "cell_type": "markdown",
      "source": [
        "ทวีปไหนมีมีจำนวนผู้เสียชีวิต (Deaths) มากที่สุด"
      ],
      "metadata": {
        "id": "idfnjivccjhA"
      }
    },
    {
      "cell_type": "code",
      "source": [
        "df['Deaths']\n",
        "# หาค่าผลรวมของจำนวนผู้เสียชีวิต (Deaths) ของแต่ละทวีป\n",
        "sum_Deaths = df.groupby('WHO Region')['Deaths'].sum()\n",
        "sum_Deaths"
      ],
      "metadata": {
        "colab": {
          "base_uri": "https://localhost:8080/"
        },
        "id": "LLTgTgaEclrv",
        "outputId": "e15f17cc-4975-4395-fde0-1e533c112342"
      },
      "execution_count": 17,
      "outputs": [
        {
          "output_type": "execute_result",
          "data": {
            "text/plain": [
              "WHO Region\n",
              "Africa                     439978\n",
              "Americas                 19359292\n",
              "Eastern Mediterranean     1924029\n",
              "Europe                   19271040\n",
              "South-East Asia           1458134\n",
              "Western Pacific            932430\n",
              "Name: Deaths, dtype: int64"
            ]
          },
          "metadata": {},
          "execution_count": 17
        }
      ]
    },
    {
      "cell_type": "code",
      "source": [
        "sum_Deaths.idxmax()"
      ],
      "metadata": {
        "colab": {
          "base_uri": "https://localhost:8080/",
          "height": 35
        },
        "id": "JpFZCOi-gl9I",
        "outputId": "7a7052a6-6044-4dfe-a142-21eff040be94"
      },
      "execution_count": 18,
      "outputs": [
        {
          "output_type": "execute_result",
          "data": {
            "text/plain": [
              "'Americas'"
            ],
            "application/vnd.google.colaboratory.intrinsic+json": {
              "type": "string"
            }
          },
          "metadata": {},
          "execution_count": 18
        }
      ]
    },
    {
      "cell_type": "markdown",
      "source": [
        "สร้าง Visualization ของค่าสถิติทั้งสามด้านบน เรียงจากจำนวนมากไปน้อย"
      ],
      "metadata": {
        "id": "AsH4_12icmGW"
      }
    },
    {
      "cell_type": "code",
      "source": [
        "df = pd.DataFrame(df)\n",
        "\n",
        "# ใช้ groupby() และ sum() เพื่อรวมผลรวมของ Confirmed ในแต่ละ WHO Region\n",
        "grouped_data = df.groupby('WHO Region')['Confirmed'].sum()\n",
        "\n",
        "# แปลงผลลัพธ์จาก Series เป็น DataFrame และเรียงลำดับ\n",
        "grouped_df = grouped_data.reset_index().sort_values(by='Confirmed', ascending=False)\n",
        "\n",
        "# สร้างกราฟแท่งด้วย seaborn\n",
        "plt.figure(figsize=(8, 5))\n",
        "sns.barplot(x='Confirmed', y='WHO Region', data=grouped_df, palette='viridis')\n",
        "\n",
        "# กำหนดชื่อกราฟและแกน\n",
        "plt.title('COVID-19 Statistics by WHO Region')\n",
        "plt.xlabel('Confirmed Cases')\n",
        "\n",
        "# แสดงกราฟ\n",
        "plt.show()"
      ],
      "metadata": {
        "colab": {
          "base_uri": "https://localhost:8080/",
          "height": 487
        },
        "id": "is8yByx5onW-",
        "outputId": "e4bc4d8a-22b6-42e3-da20-27627e69a1e9"
      },
      "execution_count": 36,
      "outputs": [
        {
          "output_type": "display_data",
          "data": {
            "text/plain": [
              "<Figure size 800x500 with 1 Axes>"
            ],
            "image/png": "[encoded data removed]"
          },
          "metadata": {}
        }
      ]
    },
    {
      "cell_type": "code",
      "source": [
        "# ใช้ groupby() และ sum() เพื่อรวมผลรวมของ Recovered ในแต่ละ WHO Region\n",
        "grouped_data = df.groupby('WHO Region')['Recovered'].sum()\n",
        "\n",
        "# แปลงผลลัพธ์จาก Series เป็น DataFrame และเรียงลำดับ\n",
        "grouped_df = grouped_data.reset_index().sort_values(by='Recovered', ascending=False)\n",
        "\n",
        "# สร้างกราฟแท่งด้วย seaborn\n",
        "plt.figure(figsize=(8, 5))\n",
        "sns.barplot(x='Recovered', y='WHO Region', data=grouped_df, palette='viridis')\n",
        "\n",
        "# กำหนดชื่อกราฟและแกน\n",
        "plt.title('COVID-19 Statistics by WHO Region')\n",
        "plt.xlabel('Recovered Cases')\n",
        "\n",
        "# แสดงกราฟ\n",
        "plt.show()"
      ],
      "metadata": {
        "colab": {
          "base_uri": "https://localhost:8080/",
          "height": 487
        },
        "id": "Gkd91RiToybd",
        "outputId": "fd0fd272-ad67-4da8-a792-6d8c91bbf8c3"
      },
      "execution_count": 35,
      "outputs": [
        {
          "output_type": "display_data",
          "data": {
            "text/plain": [
              "<Figure size 800x500 with 1 Axes>"
            ],
            "image/png": "[encoded data removed]"
          },
          "metadata": {}
        }
      ]
    },
    {
      "cell_type": "code",
      "source": [
        "# ใช้ groupby() และ sum() เพื่อรวมผลรวมของ Deaths ในแต่ละ WHO Region\n",
        "grouped_data = df.groupby('WHO Region')['Deaths'].sum()\n",
        "\n",
        "# แปลงผลลัพธ์จาก Series เป็น DataFrame และเรียงลำดับ\n",
        "grouped_df = grouped_data.reset_index().sort_values(by='Deaths', ascending=False)\n",
        "\n",
        "# สร้างกราฟแท่งด้วย seaborn\n",
        "plt.figure(figsize=(8, 5))\n",
        "sns.barplot(x='Deaths', y='WHO Region', data=grouped_df, palette='viridis')\n",
        "\n",
        "# กำหนดชื่อกราฟและแกน\n",
        "plt.title('COVID-19 Statistics by WHO Region')\n",
        "plt.xlabel('Deaths Cases')\n",
        "\n",
        "# แสดงกราฟ\n",
        "plt.show()"
      ],
      "metadata": {
        "colab": {
          "base_uri": "https://localhost:8080/",
          "height": 487
        },
        "id": "14EyEb5bpFs7",
        "outputId": "045fac13-4c6a-4ea3-9063-5de391293710"
      },
      "execution_count": 34,
      "outputs": [
        {
          "output_type": "display_data",
          "data": {
            "text/plain": [
              "<Figure size 800x500 with 1 Axes>"
            ],
            "image/png": "[encoded data removed]"
          },
          "metadata": {}
        }
      ]
    },
    {
      "cell_type": "markdown",
      "source": [
        "ประเทศไหนมีจำนวนเคส (Confirmed) มากที่สุด"
      ],
      "metadata": {
        "id": "ie9J6dXUpg-a"
      }
    },
    {
      "cell_type": "code",
      "source": [
        "# หาค่าผลรวมของจำนวนเคส (Confirmed) ของแต่ละประเทศ\n",
        "sum_Confirmed_by_country = df.groupby('Country/Region')['Confirmed'].sum()\n",
        "sum_Confirmed_by_country"
      ],
      "metadata": {
        "colab": {
          "base_uri": "https://localhost:8080/"
        },
        "id": "eE8xLJ3ApieY",
        "outputId": "b930f71f-9da6-415b-eae5-1e13de217ca0"
      },
      "execution_count": 37,
      "outputs": [
        {
          "output_type": "execute_result",
          "data": {
            "text/plain": [
              "Country/Region\n",
              "Afghanistan           1936390\n",
              "Albania                196702\n",
              "Algeria               1179755\n",
              "Andorra                 94404\n",
              "Angola                  22662\n",
              "                       ...   \n",
              "West Bank and Gaza     233461\n",
              "Western Sahara            901\n",
              "Yemen                   67180\n",
              "Zambia                 129421\n",
              "Zimbabwe                50794\n",
              "Name: Confirmed, Length: 187, dtype: int64"
            ]
          },
          "metadata": {},
          "execution_count": 37
        }
      ]
    },
    {
      "cell_type": "code",
      "source": [
        "# ระบุประเทศที่มีจำนวนเคส (Confirmed) มากที่สุด\n",
        "sum_Confirmed_by_country.idxmax()"
      ],
      "metadata": {
        "colab": {
          "base_uri": "https://localhost:8080/",
          "height": 35
        },
        "id": "T4Ss6wmVp87D",
        "outputId": "fe119811-1f46-418b-ea5e-bb6a19655801"
      },
      "execution_count": 38,
      "outputs": [
        {
          "output_type": "execute_result",
          "data": {
            "text/plain": [
              "'US'"
            ],
            "application/vnd.google.colaboratory.intrinsic+json": {
              "type": "string"
            }
          },
          "metadata": {},
          "execution_count": 38
        }
      ]
    },
    {
      "cell_type": "markdown",
      "source": [
        "ประเทศไหนมีจำนวนผู้เสียชีวิต (Deaths) มากที่สุด"
      ],
      "metadata": {
        "id": "3HXjLyx3pins"
      }
    },
    {
      "cell_type": "code",
      "source": [
        "# หาค่าผลรวมของผู้เสียชีวิต (Deaths) ของแต่ละประเทศ\n",
        "sum_Deaths_by_country = df.groupby('Country/Region')['Deaths'].sum()\n",
        "sum_Deaths_by_country"
      ],
      "metadata": {
        "colab": {
          "base_uri": "https://localhost:8080/"
        },
        "id": "FOACj3PbpkP1",
        "outputId": "1aaed90c-308f-48fa-80ab-3ee0fe9e9ee9"
      },
      "execution_count": 39,
      "outputs": [
        {
          "output_type": "execute_result",
          "data": {
            "text/plain": [
              "Country/Region\n",
              "Afghanistan           49098\n",
              "Albania                5708\n",
              "Algeria               77972\n",
              "Andorra                5423\n",
              "Angola                 1078\n",
              "                      ...  \n",
              "West Bank and Gaza     1370\n",
              "Western Sahara           63\n",
              "Yemen                 17707\n",
              "Zambia                 2643\n",
              "Zimbabwe                881\n",
              "Name: Deaths, Length: 187, dtype: int64"
            ]
          },
          "metadata": {},
          "execution_count": 39
        }
      ]
    },
    {
      "cell_type": "code",
      "source": [
        "# ระบุประเทศที่มีจำนวนผู้เสียชีวิต (Deaths) มากที่สุด\n",
        "sum_Deaths_by_country.idxmax()"
      ],
      "metadata": {
        "colab": {
          "base_uri": "https://localhost:8080/",
          "height": 35
        },
        "id": "_GmyukMgqYdi",
        "outputId": "5dcdcb8c-4c7d-4da2-ec85-561f9dfecb47"
      },
      "execution_count": 40,
      "outputs": [
        {
          "output_type": "execute_result",
          "data": {
            "text/plain": [
              "'US'"
            ],
            "application/vnd.google.colaboratory.intrinsic+json": {
              "type": "string"
            }
          },
          "metadata": {},
          "execution_count": 40
        }
      ]
    },
    {
      "cell_type": "markdown",
      "source": [
        "ประเทศไหนมีจำนวนผู้หายติด (Recovered) มากที่สุด"
      ],
      "metadata": {
        "id": "zE3RLduzplr8"
      }
    },
    {
      "cell_type": "code",
      "source": [
        "# หาค่าผลรวมของจำนวนผู้หายติด (Recovered) ของแต่ละประเทศ\n",
        "sum_Recovered_by_country = df.groupby('Country/Region')['Recovered'].sum()\n",
        "sum_Recovered_by_country"
      ],
      "metadata": {
        "colab": {
          "base_uri": "https://localhost:8080/"
        },
        "id": "wEnz00UxpmP7",
        "outputId": "eb8922bd-7889-48d5-bcdc-aacb42b5a0fd"
      },
      "execution_count": 41,
      "outputs": [
        {
          "output_type": "execute_result",
          "data": {
            "text/plain": [
              "Country/Region\n",
              "Afghanistan           798240\n",
              "Albania               118877\n",
              "Algeria               755897\n",
              "Andorra                69074\n",
              "Angola                  6573\n",
              "                       ...  \n",
              "West Bank and Gaza     61124\n",
              "Western Sahara           648\n",
              "Yemen                  23779\n",
              "Zambia                 83611\n",
              "Zimbabwe               12207\n",
              "Name: Recovered, Length: 187, dtype: int64"
            ]
          },
          "metadata": {},
          "execution_count": 41
        }
      ]
    },
    {
      "cell_type": "code",
      "source": [
        "# ระบุประเทศที่มีจำนวนผู้หายติด (Recovered) มากที่สุด\n",
        "sum_Recovered_by_country.idxmax()"
      ],
      "metadata": {
        "colab": {
          "base_uri": "https://localhost:8080/",
          "height": 35
        },
        "id": "25T2k7Zhqvwm",
        "outputId": "242bc3ac-dc9b-452c-f92a-544c1de5cdb9"
      },
      "execution_count": 42,
      "outputs": [
        {
          "output_type": "execute_result",
          "data": {
            "text/plain": [
              "'US'"
            ],
            "application/vnd.google.colaboratory.intrinsic+json": {
              "type": "string"
            }
          },
          "metadata": {},
          "execution_count": 42
        }
      ]
    },
    {
      "cell_type": "markdown",
      "source": [
        "สร้าง Visualization ของค่าสถิติทั้งสามด้านบน เรียงจากจำนวนมากไปน้อย"
      ],
      "metadata": {
        "id": "M9mHoqXSpmzS"
      }
    },
    {
      "cell_type": "code",
      "source": [
        "# ใช้ groupby() และ sum() เพื่อรวมผลรวมของ Confirmed ในแต่ละ Country/Region\n",
        "grouped_data = df.groupby('Country/Region')['Confirmed'].sum()\n",
        "\n",
        "# แปลงผลลัพธ์จาก Series เป็น DataFrame และเรียงลำดับ\n",
        "grouped_df = grouped_data.reset_index().sort_values(by='Confirmed', ascending=False).head(5)\n",
        "\n",
        "# สร้างกราฟแท่งด้วย seaborn\n",
        "plt.figure(figsize=(8, 4))\n",
        "sns.barplot(x='Confirmed', y='Country/Region', data=grouped_df, palette='viridis')\n",
        "\n",
        "# กำหนดชื่อกราฟและแกน\n",
        "plt.title('Top 5 COVID-19 Death Statistics by Country/Region')\n",
        "plt.xlabel('Confirmed Cases')\n",
        "\n",
        "# แสดงกราฟ\n",
        "plt.show()"
      ],
      "metadata": {
        "colab": {
          "base_uri": "https://localhost:8080/",
          "height": 410
        },
        "id": "x3mPZqTLsDTX",
        "outputId": "fd433597-6a82-4c01-f524-687bd2932649"
      },
      "execution_count": 45,
      "outputs": [
        {
          "output_type": "display_data",
          "data": {
            "text/plain": [
              "<Figure size 800x400 with 1 Axes>"
            ],
            "image/png": "[encoded data removed]"
          },
          "metadata": {}
        }
      ]
    },
    {
      "cell_type": "code",
      "source": [
        "# ใช้ groupby() และ sum() เพื่อรวมผลรวมของ Deaths ในแต่ละ Country/Region\n",
        "grouped_data = df.groupby('Country/Region')['Deaths'].sum()\n",
        "\n",
        "# แปลงผลลัพธ์จาก Series เป็น DataFrame และเรียงลำดับ\n",
        "grouped_df = grouped_data.reset_index().sort_values(by='Deaths', ascending=False).head(5)\n",
        "\n",
        "# สร้างกราฟแท่งด้วย seaborn\n",
        "plt.figure(figsize=(8, 4))\n",
        "sns.barplot(x='Deaths', y='Country/Region', data=grouped_df, palette='viridis')\n",
        "\n",
        "# กำหนดชื่อกราฟและแกน\n",
        "plt.title('Top 5 COVID-19 Death Statistics by Country/Region')\n",
        "plt.xlabel('Deaths Cases')\n",
        "\n",
        "# แสดงกราฟ\n",
        "plt.show()"
      ],
      "metadata": {
        "colab": {
          "base_uri": "https://localhost:8080/",
          "height": 410
        },
        "id": "MN8tWfgjsEMO",
        "outputId": "1ce91c4f-a754-498b-d432-1fd414402fab"
      },
      "execution_count": 47,
      "outputs": [
        {
          "output_type": "display_data",
          "data": {
            "text/plain": [
              "<Figure size 800x400 with 1 Axes>"
            ],
            "image/png": "[encoded data removed]"
          },
          "metadata": {}
        }
      ]
    },
    {
      "cell_type": "code",
      "source": [
        "# ใช้ groupby() และ sum() เพื่อรวมผลรวมของ Recovered ในแต่ละ Country/Region\n",
        "grouped_data = df.groupby('Country/Region')['Recovered'].sum()\n",
        "\n",
        "# แปลงผลลัพธ์จาก Series เป็น DataFrame และเรียงลำดับ\n",
        "grouped_df = grouped_data.reset_index().sort_values(by='Recovered', ascending=False).head(5)\n",
        "\n",
        "# สร้างกราฟแท่งด้วย seaborn\n",
        "plt.figure(figsize=(8, 4))\n",
        "sns.barplot(x='Recovered', y='Country/Region', data=grouped_df, palette='viridis')\n",
        "\n",
        "# กำหนดชื่อกราฟและแกน\n",
        "plt.title('Top 5 COVID-19 Recovered Statistics by Country/Region')\n",
        "plt.xlabel('Recovered Cases')\n",
        "\n",
        "# แสดงกราฟ\n",
        "plt.show()"
      ],
      "metadata": {
        "colab": {
          "base_uri": "https://localhost:8080/",
          "height": 410
        },
        "id": "F_ZgLo5AposP",
        "outputId": "01992cf1-e86d-47fa-80fb-dadc24eedc99"
      },
      "execution_count": 48,
      "outputs": [
        {
          "output_type": "display_data",
          "data": {
            "text/plain": [
              "<Figure size 800x400 with 1 Axes>"
            ],
            "image/png": "[encoded data removed]"
          },
          "metadata": {}
        }
      ]
    },
    {
      "cell_type": "markdown",
      "source": [
        "สรุปข้อมูลโควิดประจำวันของประเทศไทย"
      ],
      "metadata": {
        "id": "v78NsiHKpo2M"
      }
    },
    {
      "cell_type": "code",
      "source": [
        "df_thailand = df[(df['Country/Region']=='Thailand')]\n",
        "df_thailand"
      ],
      "metadata": {
        "id": "sUBEhD9OuC6K",
        "colab": {
          "base_uri": "https://localhost:8080/",
          "height": 424
        },
        "outputId": "6922d8ad-c756-4e6f-ac8a-e9536c030cfc"
      },
      "execution_count": 49,
      "outputs": [
        {
          "output_type": "execute_result",
          "data": {
            "text/plain": [
              "      Province/State Country/Region        Lat        Long       Date  \\\n",
              "207              NaN       Thailand  15.870032  100.992541 2020-01-22   \n",
              "468              NaN       Thailand  15.870032  100.992541 2020-01-23   \n",
              "729              NaN       Thailand  15.870032  100.992541 2020-01-24   \n",
              "990              NaN       Thailand  15.870032  100.992541 2020-01-25   \n",
              "1251             NaN       Thailand  15.870032  100.992541 2020-01-26   \n",
              "...              ...            ...        ...         ...        ...   \n",
              "47970            NaN       Thailand  15.870032  100.992541 2020-07-23   \n",
              "48231            NaN       Thailand  15.870032  100.992541 2020-07-24   \n",
              "48492            NaN       Thailand  15.870032  100.992541 2020-07-25   \n",
              "48753            NaN       Thailand  15.870032  100.992541 2020-07-26   \n",
              "49014            NaN       Thailand  15.870032  100.992541 2020-07-27   \n",
              "\n",
              "       Confirmed  Deaths  Recovered  Active       WHO Region  \n",
              "207            2       0          0       2  South-East Asia  \n",
              "468            3       0          0       3  South-East Asia  \n",
              "729            5       0          0       5  South-East Asia  \n",
              "990            7       0          0       7  South-East Asia  \n",
              "1251           8       0          2       6  South-East Asia  \n",
              "...          ...     ...        ...     ...              ...  \n",
              "47970       3279      58       3107     114  South-East Asia  \n",
              "48231       3279      58       3107     114  South-East Asia  \n",
              "48492       3282      58       3109     115  South-East Asia  \n",
              "48753       3291      58       3109     124  South-East Asia  \n",
              "49014       3297      58       3111     128  South-East Asia  \n",
              "\n",
              "[188 rows x 10 columns]"
            ],
            "text/html": [
              "\n",
              "\n",
              "  <div id=\"df-76900beb-6e70-4ee0-929a-af2b2f544ab8\">\n",
              "    <div class=\"colab-df-container\">\n",
              "      <div>\n",
              "<style scoped>\n",
              "    .dataframe tbody tr th:only-of-type {\n",
              "        vertical-align: middle;\n",
              "    }\n",
              "\n",
              "    .dataframe tbody tr th {\n",
              "        vertical-align: top;\n",
              "    }\n",
              "\n",
              "    .dataframe thead th {\n",
              "        text-align: right;\n",
              "    }\n",
              "</style>\n",
              "<table border=\"1\" class=\"dataframe\">\n",
              "  <thead>\n",
              "    <tr style=\"text-align: right;\">\n",
              "      <th></th>\n",
              "      <th>Province/State</th>\n",
              "      <th>Country/Region</th>\n",
              "      <th>Lat</th>\n",
              "      <th>Long</th>\n",
              "      <th>Date</th>\n",
              "      <th>Confirmed</th>\n",
              "      <th>Deaths</th>\n",
              "      <th>Recovered</th>\n",
              "      <th>Active</th>\n",
              "      <th>WHO Region</th>\n",
              "    </tr>\n",
              "  </thead>\n",
              "  <tbody>\n",
              "    <tr>\n",
              "      <th>207</th>\n",
              "      <td>NaN</td>\n",
              "      <td>Thailand</td>\n",
              "      <td>15.870032</td>\n",
              "      <td>100.992541</td>\n",
              "      <td>2020-01-22</td>\n",
              "      <td>2</td>\n",
              "      <td>0</td>\n",
              "      <td>0</td>\n",
              "      <td>2</td>\n",
              "      <td>South-East Asia</td>\n",
              "    </tr>\n",
              "    <tr>\n",
              "      <th>468</th>\n",
              "      <td>NaN</td>\n",
              "      <td>Thailand</td>\n",
              "      <td>15.870032</td>\n",
              "      <td>100.992541</td>\n",
              "      <td>2020-01-23</td>\n",
              "      <td>3</td>\n",
              "      <td>0</td>\n",
              "      <td>0</td>\n",
              "      <td>3</td>\n",
              "      <td>South-East Asia</td>\n",
              "    </tr>\n",
              "    <tr>\n",
              "      <th>729</th>\n",
              "      <td>NaN</td>\n",
              "      <td>Thailand</td>\n",
              "      <td>15.870032</td>\n",
              "      <td>100.992541</td>\n",
              "      <td>2020-01-24</td>\n",
              "      <td>5</td>\n",
              "      <td>0</td>\n",
              "      <td>0</td>\n",
              "      <td>5</td>\n",
              "      <td>South-East Asia</td>\n",
              "    </tr>\n",
              "    <tr>\n",
              "      <th>990</th>\n",
              "      <td>NaN</td>\n",
              "      <td>Thailand</td>\n",
              "      <td>15.870032</td>\n",
              "      <td>100.992541</td>\n",
              "      <td>2020-01-25</td>\n",
              "      <td>7</td>\n",
              "      <td>0</td>\n",
              "      <td>0</td>\n",
              "      <td>7</td>\n",
              "      <td>South-East Asia</td>\n",
              "    </tr>\n",
              "    <tr>\n",
              "      <th>1251</th>\n",
              "      <td>NaN</td>\n",
              "      <td>Thailand</td>\n",
              "      <td>15.870032</td>\n",
              "      <td>100.992541</td>\n",
              "      <td>2020-01-26</td>\n",
              "      <td>8</td>\n",
              "      <td>0</td>\n",
              "      <td>2</td>\n",
              "      <td>6</td>\n",
              "      <td>South-East Asia</td>\n",
              "    </tr>\n",
              "    <tr>\n",
              "      <th>...</th>\n",
              "      <td>...</td>\n",
              "      <td>...</td>\n",
              "      <td>...</td>\n",
              "      <td>...</td>\n",
              "      <td>...</td>\n",
              "      <td>...</td>\n",
              "      <td>...</td>\n",
              "      <td>...</td>\n",
              "      <td>...</td>\n",
              "      <td>...</td>\n",
              "    </tr>\n",
              "    <tr>\n",
              "      <th>47970</th>\n",
              "      <td>NaN</td>\n",
              "      <td>Thailand</td>\n",
              "      <td>15.870032</td>\n",
              "      <td>100.992541</td>\n",
              "      <td>2020-07-23</td>\n",
              "      <td>3279</td>\n",
              "      <td>58</td>\n",
              "      <td>3107</td>\n",
              "      <td>114</td>\n",
              "      <td>South-East Asia</td>\n",
              "    </tr>\n",
              "    <tr>\n",
              "      <th>48231</th>\n",
              "      <td>NaN</td>\n",
              "      <td>Thailand</td>\n",
              "      <td>15.870032</td>\n",
              "      <td>100.992541</td>\n",
              "      <td>2020-07-24</td>\n",
              "      <td>3279</td>\n",
              "      <td>58</td>\n",
              "      <td>3107</td>\n",
              "      <td>114</td>\n",
              "      <td>South-East Asia</td>\n",
              "    </tr>\n",
              "    <tr>\n",
              "      <th>48492</th>\n",
              "      <td>NaN</td>\n",
              "      <td>Thailand</td>\n",
              "      <td>15.870032</td>\n",
              "      <td>100.992541</td>\n",
              "      <td>2020-07-25</td>\n",
              "      <td>3282</td>\n",
              "      <td>58</td>\n",
              "      <td>3109</td>\n",
              "      <td>115</td>\n",
              "      <td>South-East Asia</td>\n",
              "    </tr>\n",
              "    <tr>\n",
              "      <th>48753</th>\n",
              "      <td>NaN</td>\n",
              "      <td>Thailand</td>\n",
              "      <td>15.870032</td>\n",
              "      <td>100.992541</td>\n",
              "      <td>2020-07-26</td>\n",
              "      <td>3291</td>\n",
              "      <td>58</td>\n",
              "      <td>3109</td>\n",
              "      <td>124</td>\n",
              "      <td>South-East Asia</td>\n",
              "    </tr>\n",
              "    <tr>\n",
              "      <th>49014</th>\n",
              "      <td>NaN</td>\n",
              "      <td>Thailand</td>\n",
              "      <td>15.870032</td>\n",
              "      <td>100.992541</td>\n",
              "      <td>2020-07-27</td>\n",
              "      <td>3297</td>\n",
              "      <td>58</td>\n",
              "      <td>3111</td>\n",
              "      <td>128</td>\n",
              "      <td>South-East Asia</td>\n",
              "    </tr>\n",
              "  </tbody>\n",
              "</table>\n",
              "<p>188 rows × 10 columns</p>\n",
              "</div>\n",
              "      <button class=\"colab-df-convert\" onclick=\"convertToInteractive('df-76900beb-6e70-4ee0-929a-af2b2f544ab8')\"\n",
              "              title=\"Convert this dataframe to an interactive table.\"\n",
              "              style=\"display:none;\">\n",
              "\n",
              "  <svg xmlns=\"http://www.w3.org/2000/svg\" height=\"24px\"viewBox=\"0 0 24 24\"\n",
              "       width=\"24px\">\n",
              "    <path d=\"M0 0h24v24H0V0z\" fill=\"none\"/>\n",
              "    <path d=\"M18.56 5.44l.94 2.06.94-2.06 2.06-.94-2.06-.94-.94-2.06-.94 2.06-2.06.94zm-11 1L8.5 8.5l.94-2.06 2.06-.94-2.06-.94L8.5 2.5l-.94 2.06-2.06.94zm10 10l.94 2.06.94-2.06 2.06-.94-2.06-.94-.94-2.06-.94 2.06-2.06.94z\"/><path d=\"M17.41 7.96l-1.37-1.37c-.4-.4-.92-.59-1.43-.59-.52 0-1.04.2-1.43.59L10.3 9.45l-7.72 7.72c-.78.78-.78 2.05 0 2.83L4 21.41c.39.39.9.59 1.41.59.51 0 1.02-.2 1.41-.59l7.78-7.78 2.81-2.81c.8-.78.8-2.07 0-2.86zM5.41 20L4 18.59l7.72-7.72 1.47 1.35L5.41 20z\"/>\n",
              "  </svg>\n",
              "      </button>\n",
              "\n",
              "\n",
              "\n",
              "    <div id=\"df-758bbe75-2f79-44d1-ac42-94713f4584c8\">\n",
              "      <button class=\"colab-df-quickchart\" onclick=\"quickchart('df-758bbe75-2f79-44d1-ac42-94713f4584c8')\"\n",
              "              title=\"Suggest charts.\"\n",
              "              style=\"display:none;\">\n",
              "\n",
              "<svg xmlns=\"http://www.w3.org/2000/svg\" height=\"24px\"viewBox=\"0 0 24 24\"\n",
              "     width=\"24px\">\n",
              "    <g>\n",
              "        <path d=\"M19 3H5c-1.1 0-2 .9-2 2v14c0 1.1.9 2 2 2h14c1.1 0 2-.9 2-2V5c0-1.1-.9-2-2-2zM9 17H7v-7h2v7zm4 0h-2V7h2v10zm4 0h-2v-4h2v4z\"/>\n",
              "    </g>\n",
              "</svg>\n",
              "      </button>\n",
              "    </div>\n",
              "\n",
              "<style>\n",
              "  .colab-df-quickchart {\n",
              "    background-color: #E8F0FE;\n",
              "    border: none;\n",
              "    border-radius: 50%;\n",
              "    cursor: pointer;\n",
              "    display: none;\n",
              "    fill: #1967D2;\n",
              "    height: 32px;\n",
              "    padding: 0 0 0 0;\n",
              "    width: 32px;\n",
              "  }\n",
              "\n",
              "  .colab-df-quickchart:hover {\n",
              "    background-color: #E2EBFA;\n",
              "    box-shadow: 0px 1px 2px rgba(60, 64, 67, 0.3), 0px 1px 3px 1px rgba(60, 64, 67, 0.15);\n",
              "    fill: #174EA6;\n",
              "  }\n",
              "\n",
              "  [theme=dark] .colab-df-quickchart {\n",
              "    background-color: #3B4455;\n",
              "    fill: #D2E3FC;\n",
              "  }\n",
              "\n",
              "  [theme=dark] .colab-df-quickchart:hover {\n",
              "    background-color: #434B5C;\n",
              "    box-shadow: 0px 1px 3px 1px rgba(0, 0, 0, 0.15);\n",
              "    filter: drop-shadow(0px 1px 2px rgba(0, 0, 0, 0.3));\n",
              "    fill: #FFFFFF;\n",
              "  }\n",
              "</style>\n",
              "\n",
              "    <script>\n",
              "      async function quickchart(key) {\n",
              "        const containerElement = document.querySelector('#' + key);\n",
              "        const charts = await google.colab.kernel.invokeFunction(\n",
              "            'suggestCharts', [key], {});\n",
              "      }\n",
              "    </script>\n",
              "\n",
              "      <script>\n",
              "\n",
              "function displayQuickchartButton(domScope) {\n",
              "  let quickchartButtonEl =\n",
              "    domScope.querySelector('#df-758bbe75-2f79-44d1-ac42-94713f4584c8 button.colab-df-quickchart');\n",
              "  quickchartButtonEl.style.display =\n",
              "    google.colab.kernel.accessAllowed ? 'block' : 'none';\n",
              "}\n",
              "\n",
              "        displayQuickchartButton(document);\n",
              "      </script>\n",
              "      <style>\n",
              "    .colab-df-container {\n",
              "      display:flex;\n",
              "      flex-wrap:wrap;\n",
              "      gap: 12px;\n",
              "    }\n",
              "\n",
              "    .colab-df-convert {\n",
              "      background-color: #E8F0FE;\n",
              "      border: none;\n",
              "      border-radius: 50%;\n",
              "      cursor: pointer;\n",
              "      display: none;\n",
              "      fill: #1967D2;\n",
              "      height: 32px;\n",
              "      padding: 0 0 0 0;\n",
              "      width: 32px;\n",
              "    }\n",
              "\n",
              "    .colab-df-convert:hover {\n",
              "      background-color: #E2EBFA;\n",
              "      box-shadow: 0px 1px 2px rgba(60, 64, 67, 0.3), 0px 1px 3px 1px rgba(60, 64, 67, 0.15);\n",
              "      fill: #174EA6;\n",
              "    }\n",
              "\n",
              "    [theme=dark] .colab-df-convert {\n",
              "      background-color: #3B4455;\n",
              "      fill: #D2E3FC;\n",
              "    }\n",
              "\n",
              "    [theme=dark] .colab-df-convert:hover {\n",
              "      background-color: #434B5C;\n",
              "      box-shadow: 0px 1px 3px 1px rgba(0, 0, 0, 0.15);\n",
              "      filter: drop-shadow(0px 1px 2px rgba(0, 0, 0, 0.3));\n",
              "      fill: #FFFFFF;\n",
              "    }\n",
              "  </style>\n",
              "\n",
              "      <script>\n",
              "        const buttonEl =\n",
              "          document.querySelector('#df-76900beb-6e70-4ee0-929a-af2b2f544ab8 button.colab-df-convert');\n",
              "        buttonEl.style.display =\n",
              "          google.colab.kernel.accessAllowed ? 'block' : 'none';\n",
              "\n",
              "        async function convertToInteractive(key) {\n",
              "          const element = document.querySelector('#df-76900beb-6e70-4ee0-929a-af2b2f544ab8');\n",
              "          const dataTable =\n",
              "            await google.colab.kernel.invokeFunction('convertToInteractive',\n",
              "                                                     [key], {});\n",
              "          if (!dataTable) return;\n",
              "\n",
              "          const docLinkHtml = 'Like what you see? Visit the ' +\n",
              "            '<a target=\"_blank\" href=https://colab.research.google.com/notebooks/data_table.ipynb>data table notebook</a>'\n",
              "            + ' to learn more about interactive tables.';\n",
              "          element.innerHTML = '';\n",
              "          dataTable['output_type'] = 'display_data';\n",
              "          await google.colab.output.renderOutput(dataTable, element);\n",
              "          const docLink = document.createElement('div');\n",
              "          docLink.innerHTML = docLinkHtml;\n",
              "          element.appendChild(docLink);\n",
              "        }\n",
              "      </script>\n",
              "    </div>\n",
              "  </div>\n"
            ]
          },
          "metadata": {},
          "execution_count": 49
        }
      ]
    },
    {
      "cell_type": "code",
      "source": [
        "df_thailand.describe()"
      ],
      "metadata": {
        "colab": {
          "base_uri": "https://localhost:8080/",
          "height": 300
        },
        "id": "XCGW0tmd6ojy",
        "outputId": "4b17ed90-b63b-49e7-884e-38477bf8c31a"
      },
      "execution_count": 52,
      "outputs": [
        {
          "output_type": "execute_result",
          "data": {
            "text/plain": [
              "                Lat          Long    Confirmed      Deaths    Recovered  \\\n",
              "count  1.880000e+02  1.880000e+02   188.000000  188.000000   188.000000   \n",
              "mean   1.587003e+01  1.009925e+02  1949.611702   33.452128  1661.489362   \n",
              "std    3.562200e-15  1.424880e-14  1388.252687   26.313268  1378.750684   \n",
              "min    1.587003e+01  1.009925e+02     2.000000    0.000000     0.000000   \n",
              "25%    1.587003e+01  1.009925e+02    50.000000    1.000000    31.000000   \n",
              "50%    1.587003e+01  1.009925e+02  2907.000000   51.000000  2547.000000   \n",
              "75%    1.587003e+01  1.009925e+02  3125.000000   58.000000  2982.500000   \n",
              "max    1.587003e+01  1.009925e+02  3297.000000   58.000000  3111.000000   \n",
              "\n",
              "            Active  \n",
              "count   188.000000  \n",
              "mean    254.670213  \n",
              "std     408.483772  \n",
              "min       2.000000  \n",
              "25%      22.750000  \n",
              "50%      78.000000  \n",
              "75%     177.000000  \n",
              "max    1451.000000  "
            ],
            "text/html": [
              "\n",
              "\n",
              "  <div id=\"df-e065132b-d9c4-40cb-8a45-066259530c9d\">\n",
              "    <div class=\"colab-df-container\">\n",
              "      <div>\n",
              "<style scoped>\n",
              "    .dataframe tbody tr th:only-of-type {\n",
              "        vertical-align: middle;\n",
              "    }\n",
              "\n",
              "    .dataframe tbody tr th {\n",
              "        vertical-align: top;\n",
              "    }\n",
              "\n",
              "    .dataframe thead th {\n",
              "        text-align: right;\n",
              "    }\n",
              "</style>\n",
              "<table border=\"1\" class=\"dataframe\">\n",
              "  <thead>\n",
              "    <tr style=\"text-align: right;\">\n",
              "      <th></th>\n",
              "      <th>Lat</th>\n",
              "      <th>Long</th>\n",
              "      <th>Confirmed</th>\n",
              "      <th>Deaths</th>\n",
              "      <th>Recovered</th>\n",
              "      <th>Active</th>\n",
              "    </tr>\n",
              "  </thead>\n",
              "  <tbody>\n",
              "    <tr>\n",
              "      <th>count</th>\n",
              "      <td>1.880000e+02</td>\n",
              "      <td>1.880000e+02</td>\n",
              "      <td>188.000000</td>\n",
              "      <td>188.000000</td>\n",
              "      <td>188.000000</td>\n",
              "      <td>188.000000</td>\n",
              "    </tr>\n",
              "    <tr>\n",
              "      <th>mean</th>\n",
              "      <td>1.587003e+01</td>\n",
              "      <td>1.009925e+02</td>\n",
              "      <td>1949.611702</td>\n",
              "      <td>33.452128</td>\n",
              "      <td>1661.489362</td>\n",
              "      <td>254.670213</td>\n",
              "    </tr>\n",
              "    <tr>\n",
              "      <th>std</th>\n",
              "      <td>3.562200e-15</td>\n",
              "      <td>1.424880e-14</td>\n",
              "      <td>1388.252687</td>\n",
              "      <td>26.313268</td>\n",
              "      <td>1378.750684</td>\n",
              "      <td>408.483772</td>\n",
              "    </tr>\n",
              "    <tr>\n",
              "      <th>min</th>\n",
              "      <td>1.587003e+01</td>\n",
              "      <td>1.009925e+02</td>\n",
              "      <td>2.000000</td>\n",
              "      <td>0.000000</td>\n",
              "      <td>0.000000</td>\n",
              "      <td>2.000000</td>\n",
              "    </tr>\n",
              "    <tr>\n",
              "      <th>25%</th>\n",
              "      <td>1.587003e+01</td>\n",
              "      <td>1.009925e+02</td>\n",
              "      <td>50.000000</td>\n",
              "      <td>1.000000</td>\n",
              "      <td>31.000000</td>\n",
              "      <td>22.750000</td>\n",
              "    </tr>\n",
              "    <tr>\n",
              "      <th>50%</th>\n",
              "      <td>1.587003e+01</td>\n",
              "      <td>1.009925e+02</td>\n",
              "      <td>2907.000000</td>\n",
              "      <td>51.000000</td>\n",
              "      <td>2547.000000</td>\n",
              "      <td>78.000000</td>\n",
              "    </tr>\n",
              "    <tr>\n",
              "      <th>75%</th>\n",
              "      <td>1.587003e+01</td>\n",
              "      <td>1.009925e+02</td>\n",
              "      <td>3125.000000</td>\n",
              "      <td>58.000000</td>\n",
              "      <td>2982.500000</td>\n",
              "      <td>177.000000</td>\n",
              "    </tr>\n",
              "    <tr>\n",
              "      <th>max</th>\n",
              "      <td>1.587003e+01</td>\n",
              "      <td>1.009925e+02</td>\n",
              "      <td>3297.000000</td>\n",
              "      <td>58.000000</td>\n",
              "      <td>3111.000000</td>\n",
              "      <td>1451.000000</td>\n",
              "    </tr>\n",
              "  </tbody>\n",
              "</table>\n",
              "</div>\n",
              "      <button class=\"colab-df-convert\" onclick=\"convertToInteractive('df-e065132b-d9c4-40cb-8a45-066259530c9d')\"\n",
              "              title=\"Convert this dataframe to an interactive table.\"\n",
              "              style=\"display:none;\">\n",
              "\n",
              "  <svg xmlns=\"http://www.w3.org/2000/svg\" height=\"24px\"viewBox=\"0 0 24 24\"\n",
              "       width=\"24px\">\n",
              "    <path d=\"M0 0h24v24H0V0z\" fill=\"none\"/>\n",
              "    <path d=\"M18.56 5.44l.94 2.06.94-2.06 2.06-.94-2.06-.94-.94-2.06-.94 2.06-2.06.94zm-11 1L8.5 8.5l.94-2.06 2.06-.94-2.06-.94L8.5 2.5l-.94 2.06-2.06.94zm10 10l.94 2.06.94-2.06 2.06-.94-2.06-.94-.94-2.06-.94 2.06-2.06.94z\"/><path d=\"M17.41 7.96l-1.37-1.37c-.4-.4-.92-.59-1.43-.59-.52 0-1.04.2-1.43.59L10.3 9.45l-7.72 7.72c-.78.78-.78 2.05 0 2.83L4 21.41c.39.39.9.59 1.41.59.51 0 1.02-.2 1.41-.59l7.78-7.78 2.81-2.81c.8-.78.8-2.07 0-2.86zM5.41 20L4 18.59l7.72-7.72 1.47 1.35L5.41 20z\"/>\n",
              "  </svg>\n",
              "      </button>\n",
              "\n",
              "\n",
              "\n",
              "    <div id=\"df-d6ce8ff7-2209-499c-a9c3-cf5ca82b99ee\">\n",
              "      <button class=\"colab-df-quickchart\" onclick=\"quickchart('df-d6ce8ff7-2209-499c-a9c3-cf5ca82b99ee')\"\n",
              "              title=\"Suggest charts.\"\n",
              "              style=\"display:none;\">\n",
              "\n",
              "<svg xmlns=\"http://www.w3.org/2000/svg\" height=\"24px\"viewBox=\"0 0 24 24\"\n",
              "     width=\"24px\">\n",
              "    <g>\n",
              "        <path d=\"M19 3H5c-1.1 0-2 .9-2 2v14c0 1.1.9 2 2 2h14c1.1 0 2-.9 2-2V5c0-1.1-.9-2-2-2zM9 17H7v-7h2v7zm4 0h-2V7h2v10zm4 0h-2v-4h2v4z\"/>\n",
              "    </g>\n",
              "</svg>\n",
              "      </button>\n",
              "    </div>\n",
              "\n",
              "<style>\n",
              "  .colab-df-quickchart {\n",
              "    background-color: #E8F0FE;\n",
              "    border: none;\n",
              "    border-radius: 50%;\n",
              "    cursor: pointer;\n",
              "    display: none;\n",
              "    fill: #1967D2;\n",
              "    height: 32px;\n",
              "    padding: 0 0 0 0;\n",
              "    width: 32px;\n",
              "  }\n",
              "\n",
              "  .colab-df-quickchart:hover {\n",
              "    background-color: #E2EBFA;\n",
              "    box-shadow: 0px 1px 2px rgba(60, 64, 67, 0.3), 0px 1px 3px 1px rgba(60, 64, 67, 0.15);\n",
              "    fill: #174EA6;\n",
              "  }\n",
              "\n",
              "  [theme=dark] .colab-df-quickchart {\n",
              "    background-color: #3B4455;\n",
              "    fill: #D2E3FC;\n",
              "  }\n",
              "\n",
              "  [theme=dark] .colab-df-quickchart:hover {\n",
              "    background-color: #434B5C;\n",
              "    box-shadow: 0px 1px 3px 1px rgba(0, 0, 0, 0.15);\n",
              "    filter: drop-shadow(0px 1px 2px rgba(0, 0, 0, 0.3));\n",
              "    fill: #FFFFFF;\n",
              "  }\n",
              "</style>\n",
              "\n",
              "    <script>\n",
              "      async function quickchart(key) {\n",
              "        const containerElement = document.querySelector('#' + key);\n",
              "        const charts = await google.colab.kernel.invokeFunction(\n",
              "            'suggestCharts', [key], {});\n",
              "      }\n",
              "    </script>\n",
              "\n",
              "      <script>\n",
              "\n",
              "function displayQuickchartButton(domScope) {\n",
              "  let quickchartButtonEl =\n",
              "    domScope.querySelector('#df-d6ce8ff7-2209-499c-a9c3-cf5ca82b99ee button.colab-df-quickchart');\n",
              "  quickchartButtonEl.style.display =\n",
              "    google.colab.kernel.accessAllowed ? 'block' : 'none';\n",
              "}\n",
              "\n",
              "        displayQuickchartButton(document);\n",
              "      </script>\n",
              "      <style>\n",
              "    .colab-df-container {\n",
              "      display:flex;\n",
              "      flex-wrap:wrap;\n",
              "      gap: 12px;\n",
              "    }\n",
              "\n",
              "    .colab-df-convert {\n",
              "      background-color: #E8F0FE;\n",
              "      border: none;\n",
              "      border-radius: 50%;\n",
              "      cursor: pointer;\n",
              "      display: none;\n",
              "      fill: #1967D2;\n",
              "      height: 32px;\n",
              "      padding: 0 0 0 0;\n",
              "      width: 32px;\n",
              "    }\n",
              "\n",
              "    .colab-df-convert:hover {\n",
              "      background-color: #E2EBFA;\n",
              "      box-shadow: 0px 1px 2px rgba(60, 64, 67, 0.3), 0px 1px 3px 1px rgba(60, 64, 67, 0.15);\n",
              "      fill: #174EA6;\n",
              "    }\n",
              "\n",
              "    [theme=dark] .colab-df-convert {\n",
              "      background-color: #3B4455;\n",
              "      fill: #D2E3FC;\n",
              "    }\n",
              "\n",
              "    [theme=dark] .colab-df-convert:hover {\n",
              "      background-color: #434B5C;\n",
              "      box-shadow: 0px 1px 3px 1px rgba(0, 0, 0, 0.15);\n",
              "      filter: drop-shadow(0px 1px 2px rgba(0, 0, 0, 0.3));\n",
              "      fill: #FFFFFF;\n",
              "    }\n",
              "  </style>\n",
              "\n",
              "      <script>\n",
              "        const buttonEl =\n",
              "          document.querySelector('#df-e065132b-d9c4-40cb-8a45-066259530c9d button.colab-df-convert');\n",
              "        buttonEl.style.display =\n",
              "          google.colab.kernel.accessAllowed ? 'block' : 'none';\n",
              "\n",
              "        async function convertToInteractive(key) {\n",
              "          const element = document.querySelector('#df-e065132b-d9c4-40cb-8a45-066259530c9d');\n",
              "          const dataTable =\n",
              "            await google.colab.kernel.invokeFunction('convertToInteractive',\n",
              "                                                     [key], {});\n",
              "          if (!dataTable) return;\n",
              "\n",
              "          const docLinkHtml = 'Like what you see? Visit the ' +\n",
              "            '<a target=\"_blank\" href=https://colab.research.google.com/notebooks/data_table.ipynb>data table notebook</a>'\n",
              "            + ' to learn more about interactive tables.';\n",
              "          element.innerHTML = '';\n",
              "          dataTable['output_type'] = 'display_data';\n",
              "          await google.colab.output.renderOutput(dataTable, element);\n",
              "          const docLink = document.createElement('div');\n",
              "          docLink.innerHTML = docLinkHtml;\n",
              "          element.appendChild(docLink);\n",
              "        }\n",
              "      </script>\n",
              "    </div>\n",
              "  </div>\n"
            ]
          },
          "metadata": {},
          "execution_count": 52
        }
      ]
    },
    {
      "cell_type": "code",
      "source": [
        "df_thailand.shape"
      ],
      "metadata": {
        "colab": {
          "base_uri": "https://localhost:8080/"
        },
        "id": "LpHuMxzr7dD9",
        "outputId": "ec821e85-f965-4a09-f40d-a486273e54fd"
      },
      "execution_count": 57,
      "outputs": [
        {
          "output_type": "execute_result",
          "data": {
            "text/plain": [
              "(188, 10)"
            ]
          },
          "metadata": {},
          "execution_count": 57
        }
      ]
    },
    {
      "cell_type": "code",
      "source": [
        "# แปลงคอลัมน์ 'Date' เป็นรูปแบบวันที่\n",
        "df_thailand['Date'] = pd.to_datetime(df_thailand['Date'])\n",
        "\n",
        "# สร้างกราฟแสดงผู้ติดเชื้อในแต่ละวัน\n",
        "plt.figure(figsize=(8, 6))\n",
        "plt.plot(df['Date'], df['Confirmed'], marker='o')\n",
        "plt.title('COVID-19 Daily Confirmed Cases in Thailand')\n",
        "plt.xlabel('Date')\n",
        "plt.ylabel('Confirmed Cases')\n",
        "plt.grid(True)\n",
        "plt.xticks(rotation=45)\n",
        "plt.tight_layout()\n",
        "plt.show()\n",
        "\n",
        "# แสดงตารางข้อมูลโควิด-19 ประจำวันของประเทศไทย\n",
        "print(df_thailand[['Date', 'Confirmed', 'Deaths', 'Recovered']])"
      ],
      "metadata": {
        "colab": {
          "base_uri": "https://localhost:8080/",
          "height": 954
        },
        "id": "xOuqMS-8pq9X",
        "outputId": "a27bc29b-6c9e-4aad-fd65-fbf4cfe1dd3b"
      },
      "execution_count": 61,
      "outputs": [
        {
          "output_type": "stream",
          "name": "stderr",
          "text": [
            "<ipython-input-61-9f3caf0561e8>:2: SettingWithCopyWarning: \n",
            "A value is trying to be set on a copy of a slice from a DataFrame.\n",
            "Try using .loc[row_indexer,col_indexer] = value instead\n",
            "\n",
            "See the caveats in the documentation: https://pandas.pydata.org/pandas-docs/stable/user_guide/indexing.html#returning-a-view-versus-a-copy\n",
            "  df_thailand['Date'] = pd.to_datetime(df_thailand['Date'])\n"
          ]
        },
        {
          "output_type": "display_data",
          "data": {
            "text/plain": [
              "<Figure size 800x600 with 1 Axes>"
            ],
            "image/png": "[encoded data removed]"
          },
          "metadata": {}
        },
        {
          "output_type": "stream",
          "name": "stdout",
          "text": [
            "            Date  Confirmed  Deaths  Recovered\n",
            "207   2020-01-22          2       0          0\n",
            "468   2020-01-23          3       0          0\n",
            "729   2020-01-24          5       0          0\n",
            "990   2020-01-25          7       0          0\n",
            "1251  2020-01-26          8       0          2\n",
            "...          ...        ...     ...        ...\n",
            "47970 2020-07-23       3279      58       3107\n",
            "48231 2020-07-24       3279      58       3107\n",
            "48492 2020-07-25       3282      58       3109\n",
            "48753 2020-07-26       3291      58       3109\n",
            "49014 2020-07-27       3297      58       3111\n",
            "\n",
            "[188 rows x 4 columns]\n"
          ]
        }
      ]
    },
    {
      "cell_type": "markdown",
      "source": [
        "สรุปข้อมูลโควิดประจำวันของประเทศไทย ในช่วงก่อนเทศกาลสงกรานต์หนึ่งสัปดาห์ ระหว่างเทศกาลสงกรานต์ (13-18 เม.ย.) และหลังเทศกาลสงกรานต์หนึ่งสัปดาห์"
      ],
      "metadata": {
        "id": "vtfUQkeipunc"
      }
    },
    {
      "cell_type": "code",
      "source": [
        "# กรองข้อมูลในช่วงก่อนเทศกาลสงกรานต์หนึ่งสัปดาห์ (ก่อน 13 เมษายน)\n",
        "before_songkran = df_thailand[df_thailand['Date'] < pd.to_datetime('2023-04-13')]\n",
        "\n",
        "# กรองข้อมูลในช่วงเทศกาลสงกรานต์ (13-18 เมษายน)\n",
        "during_songkran = df_thailand[(df_thailand['Date'] >= pd.to_datetime('2023-04-13')) & (df_thailand['Date'] <= pd.to_datetime('2023-04-18'))]\n",
        "\n",
        "# กรองข้อมูลในช่วงหลังเทศกาลสงกรานต์หนึ่งสัปดาห์ (หลัง 18 เมษายน)\n",
        "after_songkran = df_thailand[df_thailand['Date'] > pd.to_datetime('2023-04-18')]\n",
        "\n",
        "# สรุปข้อมูลสถิติของผู้ติดเชื้อ, ผู้เสียชีวิต, และผู้รักษาหายในแต่ละช่วง\n",
        "summary_before = before_songkran[['Confirmed', 'Deaths', 'Recovered']].sum()\n",
        "summary_during = during_songkran[['Confirmed', 'Deaths', 'Recovered']].sum()\n",
        "summary_after = after_songkran[['Confirmed', 'Deaths', 'Recovered']].sum()\n",
        "\n",
        "# แสดงผลสรุปข้อมูลโควิด-19 ในแต่ละช่วง\n",
        "print(\"Summary before Songkran:\")\n",
        "print(summary_before)\n",
        "print(\"\\nSummary during Songkran:\")\n",
        "print(summary_during)\n",
        "print(\"\\nSummary after Songkran:\")\n",
        "print(summary_after)\n",
        "\n",
        "# สร้างกราฟแสดงจำนวนผู้ติดเชื้อในแต่ละวัน\n",
        "plt.figure(figsize=(8, 6))\n",
        "plt.plot(df_thailand['Date'], df_thailand['Confirmed'], marker='o')\n",
        "plt.title('COVID-19 Daily Confirmed Cases in Thailand')\n",
        "plt.xlabel('Date')\n",
        "plt.ylabel('Confirmed Cases')\n",
        "plt.grid(True)\n",
        "plt.xticks(rotation=45)\n",
        "plt.tight_layout()\n",
        "plt.show()"
      ],
      "metadata": {
        "colab": {
          "base_uri": "https://localhost:8080/",
          "height": 902
        },
        "id": "uiMwsfKepvPg",
        "outputId": "bd710be4-9075-4e86-dc49-67be06f5e424"
      },
      "execution_count": 60,
      "outputs": [
        {
          "output_type": "stream",
          "name": "stdout",
          "text": [
            "Summary before Songkran:\n",
            "Confirmed    366527\n",
            "Deaths         6289\n",
            "Recovered    312360\n",
            "dtype: int64\n",
            "\n",
            "Summary during Songkran:\n",
            "Confirmed    0.0\n",
            "Deaths       0.0\n",
            "Recovered    0.0\n",
            "dtype: float64\n",
            "\n",
            "Summary after Songkran:\n",
            "Confirmed    0.0\n",
            "Deaths       0.0\n",
            "Recovered    0.0\n",
            "dtype: float64\n"
          ]
        },
        {
          "output_type": "display_data",
          "data": {
            "text/plain": [
              "<Figure size 800x600 with 1 Axes>"
            ],
            "image/png": "[encoded data removed]"
          },
          "metadata": {}
        }
      ]
    }
  ]
}